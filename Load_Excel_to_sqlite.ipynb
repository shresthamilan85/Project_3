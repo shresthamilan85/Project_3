{
 "cells": [
  {
   "cell_type": "code",
   "execution_count": 25,
   "metadata": {},
   "outputs": [],
   "source": [
    "import pandas as pd\n",
    "import os\n",
    "import sqlite3\n",
    "\n",
    "file = 'Sample.xlsx'\n",
    "df1 = pd.read_excel(file)\n",
    "sql_db = sqlite3.connect('Closed_college.db')\n",
    "df1.to_sql('College', sql_db, if_exists = 'replace')\n",
    "\n",
    "\n",
    "\n",
    "def run_query(query):\n",
    "    df = pd.read_sql_query(query, sql_db)\n",
    "    return df"
   ]
  },
  {
   "cell_type": "code",
   "execution_count": 26,
   "metadata": {},
   "outputs": [
    {
     "data": {
      "text/html": [
       "<div>\n",
       "<style scoped>\n",
       "    .dataframe tbody tr th:only-of-type {\n",
       "        vertical-align: middle;\n",
       "    }\n",
       "\n",
       "    .dataframe tbody tr th {\n",
       "        vertical-align: top;\n",
       "    }\n",
       "\n",
       "    .dataframe thead th {\n",
       "        text-align: right;\n",
       "    }\n",
       "</style>\n",
       "<table border=\"1\" class=\"dataframe\">\n",
       "  <thead>\n",
       "    <tr style=\"text-align: right;\">\n",
       "      <th></th>\n",
       "      <th>index</th>\n",
       "      <th>Name</th>\n",
       "      <th>OPEID</th>\n",
       "      <th>Location</th>\n",
       "      <th>Geographic_Location</th>\n",
       "      <th>Student_Number</th>\n",
       "      <th>Area</th>\n",
       "    </tr>\n",
       "  </thead>\n",
       "  <tbody>\n",
       "    <tr>\n",
       "      <td>0</td>\n",
       "      <td>0</td>\n",
       "      <td>John Wesley University</td>\n",
       "      <td>293500.0</td>\n",
       "      <td>High Point,North Carolina</td>\n",
       "      <td>Northeast</td>\n",
       "      <td>6000</td>\n",
       "      <td>3000.0</td>\n",
       "    </tr>\n",
       "    <tr>\n",
       "      <td>1</td>\n",
       "      <td>1</td>\n",
       "      <td>Southern Catholic College</td>\n",
       "      <td>4128500.0</td>\n",
       "      <td>Dawsonville, Georgia</td>\n",
       "      <td>South</td>\n",
       "      <td>2500</td>\n",
       "      <td>6000.0</td>\n",
       "    </tr>\n",
       "    <tr>\n",
       "      <td>2</td>\n",
       "      <td>2</td>\n",
       "      <td>Vennard College</td>\n",
       "      <td>NaN</td>\n",
       "      <td>University Park, Iowa</td>\n",
       "      <td>Midwest</td>\n",
       "      <td>1000</td>\n",
       "      <td>NaN</td>\n",
       "    </tr>\n",
       "    <tr>\n",
       "      <td>3</td>\n",
       "      <td>3</td>\n",
       "      <td>Mid-Continent University</td>\n",
       "      <td>2576200.0</td>\n",
       "      <td>Mayfield, Kentucky</td>\n",
       "      <td>South</td>\n",
       "      <td>3000</td>\n",
       "      <td>7000.0</td>\n",
       "    </tr>\n",
       "    <tr>\n",
       "      <td>4</td>\n",
       "      <td>4</td>\n",
       "      <td>Baltimore Hebrew University</td>\n",
       "      <td>NaN</td>\n",
       "      <td>Baltimore, Maryland</td>\n",
       "      <td>None</td>\n",
       "      <td>1500</td>\n",
       "      <td>NaN</td>\n",
       "    </tr>\n",
       "    <tr>\n",
       "      <td>5</td>\n",
       "      <td>5</td>\n",
       "      <td>College of Visual Arts</td>\n",
       "      <td>746200.0</td>\n",
       "      <td>Saint Paul, Minnesota</td>\n",
       "      <td>Midwest</td>\n",
       "      <td>3500</td>\n",
       "      <td>8700.0</td>\n",
       "    </tr>\n",
       "    <tr>\n",
       "      <td>6</td>\n",
       "      <td>6</td>\n",
       "      <td>Pillsbury Baptist Bible College</td>\n",
       "      <td>2284500.0</td>\n",
       "      <td>Owatonna, Minnesota</td>\n",
       "      <td>None</td>\n",
       "      <td>2600</td>\n",
       "      <td>7982.0</td>\n",
       "    </tr>\n",
       "    <tr>\n",
       "      <td>7</td>\n",
       "      <td>7</td>\n",
       "      <td>Chester College of New England</td>\n",
       "      <td>473300.0</td>\n",
       "      <td>Chester, New Hampshire</td>\n",
       "      <td>Northeast</td>\n",
       "      <td>1700</td>\n",
       "      <td>NaN</td>\n",
       "    </tr>\n",
       "    <tr>\n",
       "      <td>8</td>\n",
       "      <td>8</td>\n",
       "      <td>Lambuth University</td>\n",
       "      <td>349800.0</td>\n",
       "      <td>Jackson, Tennessee</td>\n",
       "      <td>South</td>\n",
       "      <td>1900</td>\n",
       "      <td>5822.0</td>\n",
       "    </tr>\n",
       "    <tr>\n",
       "      <td>9</td>\n",
       "      <td>9</td>\n",
       "      <td>Coleman University</td>\n",
       "      <td>729600.0</td>\n",
       "      <td>San Diego, California</td>\n",
       "      <td>Far West</td>\n",
       "      <td>2500</td>\n",
       "      <td>NaN</td>\n",
       "    </tr>\n",
       "  </tbody>\n",
       "</table>\n",
       "</div>"
      ],
      "text/plain": [
       "   index                             Name      OPEID  \\\n",
       "0      0           John Wesley University   293500.0   \n",
       "1      1        Southern Catholic College  4128500.0   \n",
       "2      2                  Vennard College        NaN   \n",
       "3      3         Mid-Continent University  2576200.0   \n",
       "4      4      Baltimore Hebrew University        NaN   \n",
       "5      5           College of Visual Arts   746200.0   \n",
       "6      6  Pillsbury Baptist Bible College  2284500.0   \n",
       "7      7   Chester College of New England   473300.0   \n",
       "8      8               Lambuth University   349800.0   \n",
       "9      9               Coleman University   729600.0   \n",
       "\n",
       "                    Location Geographic_Location  Student_Number    Area  \n",
       "0  High Point,North Carolina           Northeast            6000  3000.0  \n",
       "1       Dawsonville, Georgia               South            2500  6000.0  \n",
       "2      University Park, Iowa             Midwest            1000     NaN  \n",
       "3         Mayfield, Kentucky               South            3000  7000.0  \n",
       "4        Baltimore, Maryland                None            1500     NaN  \n",
       "5      Saint Paul, Minnesota             Midwest            3500  8700.0  \n",
       "6        Owatonna, Minnesota                None            2600  7982.0  \n",
       "7     Chester, New Hampshire           Northeast            1700     NaN  \n",
       "8         Jackson, Tennessee               South            1900  5822.0  \n",
       "9      San Diego, California            Far West            2500     NaN  "
      ]
     },
     "execution_count": 26,
     "metadata": {},
     "output_type": "execute_result"
    }
   ],
   "source": [
    "query = 'SELECT * FROM College LIMIT 25'\n",
    "run_query(query)"
   ]
  },
  {
   "cell_type": "code",
   "execution_count": 40,
   "metadata": {},
   "outputs": [
    {
     "data": {
      "text/plain": [
       "Name                   5\n",
       "OPEID                  5\n",
       "Location               5\n",
       "Geographic_Location    5\n",
       "Student_Number         5\n",
       "Area                   5\n",
       "dtype: int64"
      ]
     },
     "execution_count": 40,
     "metadata": {},
     "output_type": "execute_result"
    }
   ],
   "source": [
    "df1.count()"
   ]
  },
  {
   "cell_type": "code",
   "execution_count": 27,
   "metadata": {},
   "outputs": [
    {
     "data": {
      "text/plain": [
       "Name                   0\n",
       "OPEID                  2\n",
       "Location               0\n",
       "Geographic_Location    2\n",
       "Student_Number         0\n",
       "Area                   4\n",
       "dtype: int64"
      ]
     },
     "execution_count": 27,
     "metadata": {},
     "output_type": "execute_result"
    }
   ],
   "source": [
    "df1.isnull().sum()\n",
    "\n",
    "#Sum of null rows per each column"
   ]
  },
  {
   "cell_type": "code",
   "execution_count": 28,
   "metadata": {},
   "outputs": [],
   "source": [
    "df1['OPEID'] = df1['OPEID'].fillna('0')\n",
    "\n",
    "#filling null values for column 'Religious Affilation' with 'No religion'"
   ]
  },
  {
   "cell_type": "code",
   "execution_count": 29,
   "metadata": {},
   "outputs": [
    {
     "name": "stdout",
     "output_type": "stream",
     "text": [
      "0        293500\n",
      "1    4.1285e+06\n",
      "2             0\n",
      "3    2.5762e+06\n",
      "4             0\n",
      "5        746200\n",
      "6    2.2845e+06\n",
      "7        473300\n",
      "8        349800\n",
      "9        729600\n",
      "Name: OPEID, dtype: object\n"
     ]
    }
   ],
   "source": [
    "print (df1['OPEID'])"
   ]
  },
  {
   "cell_type": "code",
   "execution_count": 30,
   "metadata": {},
   "outputs": [
    {
     "data": {
      "text/plain": [
       "0    Northeast\n",
       "1        South\n",
       "2      Midwest\n",
       "3        South\n",
       "4          NaN\n",
       "5      Midwest\n",
       "6          NaN\n",
       "7    Northeast\n",
       "8        South\n",
       "9     Far West\n",
       "Name: Geographic_Location, dtype: object"
      ]
     },
     "execution_count": 30,
     "metadata": {},
     "output_type": "execute_result"
    }
   ],
   "source": [
    "df1['Geographic_Location']"
   ]
  },
  {
   "cell_type": "code",
   "execution_count": 39,
   "metadata": {},
   "outputs": [
    {
     "data": {
      "text/plain": [
       "Name                   0\n",
       "OPEID                  0\n",
       "Location               0\n",
       "Geographic_Location    0\n",
       "Student_Number         0\n",
       "Area                   0\n",
       "dtype: int64"
      ]
     },
     "execution_count": 39,
     "metadata": {},
     "output_type": "execute_result"
    }
   ],
   "source": [
    "Unknown_Geo_Location = df1.dropna(inplace=True)\n",
    "df1.isnull().sum()"
   ]
  },
  {
   "cell_type": "code",
   "execution_count": 42,
   "metadata": {},
   "outputs": [
    {
     "data": {
      "text/html": [
       "<div>\n",
       "<style scoped>\n",
       "    .dataframe tbody tr th:only-of-type {\n",
       "        vertical-align: middle;\n",
       "    }\n",
       "\n",
       "    .dataframe tbody tr th {\n",
       "        vertical-align: top;\n",
       "    }\n",
       "\n",
       "    .dataframe thead th {\n",
       "        text-align: right;\n",
       "    }\n",
       "</style>\n",
       "<table border=\"1\" class=\"dataframe\">\n",
       "  <thead>\n",
       "    <tr style=\"text-align: right;\">\n",
       "      <th></th>\n",
       "      <th>Name</th>\n",
       "      <th>OPEID</th>\n",
       "      <th>Location</th>\n",
       "      <th>Geographic_Location</th>\n",
       "      <th>Student_Number</th>\n",
       "      <th>Area</th>\n",
       "    </tr>\n",
       "  </thead>\n",
       "  <tbody>\n",
       "    <tr>\n",
       "      <td>0</td>\n",
       "      <td>John Wesley University</td>\n",
       "      <td>293500</td>\n",
       "      <td>High Point,North Carolina</td>\n",
       "      <td>Northeast</td>\n",
       "      <td>6000</td>\n",
       "      <td>3000.0</td>\n",
       "    </tr>\n",
       "    <tr>\n",
       "      <td>1</td>\n",
       "      <td>Southern Catholic College</td>\n",
       "      <td>4.1285e+06</td>\n",
       "      <td>Dawsonville, Georgia</td>\n",
       "      <td>South</td>\n",
       "      <td>2500</td>\n",
       "      <td>6000.0</td>\n",
       "    </tr>\n",
       "    <tr>\n",
       "      <td>3</td>\n",
       "      <td>Mid-Continent University</td>\n",
       "      <td>2.5762e+06</td>\n",
       "      <td>Mayfield, Kentucky</td>\n",
       "      <td>South</td>\n",
       "      <td>3000</td>\n",
       "      <td>7000.0</td>\n",
       "    </tr>\n",
       "    <tr>\n",
       "      <td>5</td>\n",
       "      <td>College of Visual Arts</td>\n",
       "      <td>746200</td>\n",
       "      <td>Saint Paul, Minnesota</td>\n",
       "      <td>Midwest</td>\n",
       "      <td>3500</td>\n",
       "      <td>8700.0</td>\n",
       "    </tr>\n",
       "    <tr>\n",
       "      <td>8</td>\n",
       "      <td>Lambuth University</td>\n",
       "      <td>349800</td>\n",
       "      <td>Jackson, Tennessee</td>\n",
       "      <td>South</td>\n",
       "      <td>1900</td>\n",
       "      <td>5822.0</td>\n",
       "    </tr>\n",
       "  </tbody>\n",
       "</table>\n",
       "</div>"
      ],
      "text/plain": [
       "                        Name       OPEID                   Location  \\\n",
       "0     John Wesley University      293500  High Point,North Carolina   \n",
       "1  Southern Catholic College  4.1285e+06       Dawsonville, Georgia   \n",
       "3   Mid-Continent University  2.5762e+06         Mayfield, Kentucky   \n",
       "5     College of Visual Arts      746200      Saint Paul, Minnesota   \n",
       "8         Lambuth University      349800         Jackson, Tennessee   \n",
       "\n",
       "  Geographic_Location  Student_Number    Area  \n",
       "0           Northeast            6000  3000.0  \n",
       "1               South            2500  6000.0  \n",
       "3               South            3000  7000.0  \n",
       "5             Midwest            3500  8700.0  \n",
       "8               South            1900  5822.0  "
      ]
     },
     "execution_count": 42,
     "metadata": {},
     "output_type": "execute_result"
    }
   ],
   "source": [
    "df1"
   ]
  },
  {
   "cell_type": "code",
   "execution_count": 43,
   "metadata": {},
   "outputs": [
    {
     "data": {
      "text/plain": [
       "Name                   0\n",
       "OPEID                  0\n",
       "Location               0\n",
       "Geographic_Location    0\n",
       "Student_Number         0\n",
       "Area                   0\n",
       "dtype: int64"
      ]
     },
     "execution_count": 43,
     "metadata": {},
     "output_type": "execute_result"
    }
   ],
   "source": [
    "df1.isnull().sum()"
   ]
  },
  {
   "cell_type": "code",
   "execution_count": 35,
   "metadata": {},
   "outputs": [
    {
     "data": {
      "text/html": [
       "<div>\n",
       "<style scoped>\n",
       "    .dataframe tbody tr th:only-of-type {\n",
       "        vertical-align: middle;\n",
       "    }\n",
       "\n",
       "    .dataframe tbody tr th {\n",
       "        vertical-align: top;\n",
       "    }\n",
       "\n",
       "    .dataframe thead th {\n",
       "        text-align: right;\n",
       "    }\n",
       "</style>\n",
       "<table border=\"1\" class=\"dataframe\">\n",
       "  <thead>\n",
       "    <tr style=\"text-align: right;\">\n",
       "      <th></th>\n",
       "      <th>Geographic_Location</th>\n",
       "      <th>Total Student</th>\n",
       "      <th>Avg Student</th>\n",
       "      <th>Number of Colleges</th>\n",
       "    </tr>\n",
       "  </thead>\n",
       "  <tbody>\n",
       "    <tr>\n",
       "      <td>0</td>\n",
       "      <td>None</td>\n",
       "      <td>4100</td>\n",
       "      <td>2050.000000</td>\n",
       "      <td>2</td>\n",
       "    </tr>\n",
       "    <tr>\n",
       "      <td>1</td>\n",
       "      <td>Far West</td>\n",
       "      <td>2500</td>\n",
       "      <td>2500.000000</td>\n",
       "      <td>1</td>\n",
       "    </tr>\n",
       "    <tr>\n",
       "      <td>2</td>\n",
       "      <td>Midwest</td>\n",
       "      <td>4500</td>\n",
       "      <td>2250.000000</td>\n",
       "      <td>2</td>\n",
       "    </tr>\n",
       "    <tr>\n",
       "      <td>3</td>\n",
       "      <td>Northeast</td>\n",
       "      <td>7700</td>\n",
       "      <td>3850.000000</td>\n",
       "      <td>2</td>\n",
       "    </tr>\n",
       "    <tr>\n",
       "      <td>4</td>\n",
       "      <td>South</td>\n",
       "      <td>7400</td>\n",
       "      <td>2466.666667</td>\n",
       "      <td>3</td>\n",
       "    </tr>\n",
       "  </tbody>\n",
       "</table>\n",
       "</div>"
      ],
      "text/plain": [
       "  Geographic_Location  Total Student  Avg Student  Number of Colleges\n",
       "0                None           4100  2050.000000                   2\n",
       "1            Far West           2500  2500.000000                   1\n",
       "2             Midwest           4500  2250.000000                   2\n",
       "3           Northeast           7700  3850.000000                   2\n",
       "4               South           7400  2466.666667                   3"
      ]
     },
     "execution_count": 35,
     "metadata": {},
     "output_type": "execute_result"
    }
   ],
   "source": [
    "query_Geo_Location = \"\"\"\n",
    "select \n",
    " Geographic_Location\n",
    ",sum(Student_Number) as \"Total Student\"\n",
    ",avg(Student_Number) as \"Avg Student\"\n",
    ",count(*) as \"Number of Colleges\"\n",
    "from College\n",
    "group by Geographic_Location; \"\"\"\n",
    "\n",
    "run_query(query_Geo_Location)"
   ]
  },
  {
   "cell_type": "code",
   "execution_count": 37,
   "metadata": {},
   "outputs": [
    {
     "data": {
      "text/html": [
       "<div>\n",
       "<style scoped>\n",
       "    .dataframe tbody tr th:only-of-type {\n",
       "        vertical-align: middle;\n",
       "    }\n",
       "\n",
       "    .dataframe tbody tr th {\n",
       "        vertical-align: top;\n",
       "    }\n",
       "\n",
       "    .dataframe thead th {\n",
       "        text-align: right;\n",
       "    }\n",
       "</style>\n",
       "<table border=\"1\" class=\"dataframe\">\n",
       "  <thead>\n",
       "    <tr style=\"text-align: right;\">\n",
       "      <th></th>\n",
       "      <th>Geographic_Location</th>\n",
       "      <th>Colleges per Geo Location</th>\n",
       "    </tr>\n",
       "  </thead>\n",
       "  <tbody>\n",
       "    <tr>\n",
       "      <td>0</td>\n",
       "      <td>Far West</td>\n",
       "      <td>1</td>\n",
       "    </tr>\n",
       "    <tr>\n",
       "      <td>1</td>\n",
       "      <td>None</td>\n",
       "      <td>2</td>\n",
       "    </tr>\n",
       "    <tr>\n",
       "      <td>2</td>\n",
       "      <td>Midwest</td>\n",
       "      <td>2</td>\n",
       "    </tr>\n",
       "    <tr>\n",
       "      <td>3</td>\n",
       "      <td>Northeast</td>\n",
       "      <td>2</td>\n",
       "    </tr>\n",
       "    <tr>\n",
       "      <td>4</td>\n",
       "      <td>South</td>\n",
       "      <td>3</td>\n",
       "    </tr>\n",
       "  </tbody>\n",
       "</table>\n",
       "</div>"
      ],
      "text/plain": [
       "  Geographic_Location  Colleges per Geo Location\n",
       "0            Far West                          1\n",
       "1                None                          2\n",
       "2             Midwest                          2\n",
       "3           Northeast                          2\n",
       "4               South                          3"
      ]
     },
     "execution_count": 37,
     "metadata": {},
     "output_type": "execute_result"
    }
   ],
   "source": [
    "query_college_per_location = \"\"\"\n",
    "select \n",
    "Geographic_Location\n",
    ",count(*) as \"Colleges per Geo Location\"\n",
    "from College\n",
    "group by Geographic_LOcation\n",
    "order by \"Colleges per Geo Location\" asc;\n",
    "\"\"\"\n",
    "\n",
    "run_query(query_college_per_location)"
   ]
  },
  {
   "cell_type": "code",
   "execution_count": null,
   "metadata": {},
   "outputs": [],
   "source": []
  }
 ],
 "metadata": {
  "kernelspec": {
   "display_name": "Python 3",
   "language": "python",
   "name": "python3"
  },
  "language_info": {
   "codemirror_mode": {
    "name": "ipython",
    "version": 3
   },
   "file_extension": ".py",
   "mimetype": "text/x-python",
   "name": "python",
   "nbconvert_exporter": "python",
   "pygments_lexer": "ipython3",
   "version": "3.7.4"
  }
 },
 "nbformat": 4,
 "nbformat_minor": 2
}
